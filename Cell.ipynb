{
  "nbformat": 4,
  "nbformat_minor": 0,
  "metadata": {
    "colab": {
      "name": "Cell.ipynb",
      "private_outputs": true,
      "provenance": [],
      "collapsed_sections": [],
      "include_colab_link": true
    },
    "kernelspec": {
      "display_name": "Python 3",
      "language": "python",
      "name": "python3"
    },
    "language_info": {
      "codemirror_mode": {
        "name": "ipython",
        "version": 3
      },
      "file_extension": ".py",
      "mimetype": "text/x-python",
      "name": "python",
      "nbconvert_exporter": "python",
      "pygments_lexer": "ipython3",
      "version": "3.7.9"
    },
    "accelerator": "GPU"
  },
  "cells": [
    {
      "cell_type": "markdown",
      "metadata": {
        "id": "view-in-github",
        "colab_type": "text"
      },
      "source": [
        "<a href=\"https://colab.research.google.com/github/FarshadBorjalizade/Face-recognitionvia-Deep-Stacked-Denoising-Autoencoders/blob/main/Cell.ipynb\" target=\"_parent\"><img src=\"https://colab.research.google.com/assets/colab-badge.svg\" alt=\"Open In Colab\"/></a>"
      ]
    },
    {
      "cell_type": "code",
      "metadata": {
        "id": "swo1VwWDuTef"
      },
      "source": [
        "from google.colab import drive\n",
        "drive.mount('/content/drive')"
      ],
      "execution_count": null,
      "outputs": []
    },
    {
      "cell_type": "code",
      "metadata": {
        "id": "sy0bW-IFv1S1"
      },
      "source": [
        "!unrar x \"/content/drive/MyDrive/Dataset/image_processing_HW3.rar\" \"/content/sample_data/Img_HW3\""
      ],
      "execution_count": null,
      "outputs": []
    },
    {
      "cell_type": "markdown",
      "metadata": {
        "id": "SJVagt7NwMP_"
      },
      "source": [
        ""
      ]
    },
    {
      "cell_type": "code",
      "metadata": {
        "id": "HmdDczIWuTej"
      },
      "source": [
        "import tensorflow as tf\n",
        "import PIL\n",
        "import pandas as pd\n",
        "import numpy as np\n",
        "import os\n",
        "import cv2\n",
        "import random\n",
        "import matplotlib.pyplot as plt\n",
        "\n",
        "from tensorflow import keras\n",
        "from tensorflow.keras import layers\n",
        "from tensorflow.keras.models import Sequential\n",
        "from tensorflow import keras\n",
        "from matplotlib import pyplot as plt\n",
        "from PIL import Image\n",
        "from keras.preprocessing.image import ImageDataGenerator\n",
        "from skimage import io\n",
        "%matplotlib inline"
      ],
      "execution_count": null,
      "outputs": []
    },
    {
      "cell_type": "code",
      "metadata": {
        "id": "s8VhSeOAuTek"
      },
      "source": [
        "dataset_dir = r'/content/sample_data/Img_HW3'"
      ],
      "execution_count": null,
      "outputs": []
    },
    {
      "cell_type": "markdown",
      "metadata": {
        "id": "PUNqrGc_W4Gu"
      },
      "source": [
        "**Show some randome image before Augmentation**\n",
        "\n"
      ]
    },
    {
      "cell_type": "code",
      "metadata": {
        "id": "0oGMSZ76uTel"
      },
      "source": [
        "plt.figure(figsize=(20,20))\n",
        "\n",
        "img_folder = os.path.join(dataset_dir, 'Balle_cell_1')\n",
        "#print(img_folder)\n",
        "for i in range(5):\n",
        "    file = random.choice(os.listdir(img_folder))\n",
        "    image_path= os.path.join(img_folder, file)\n",
        "    img=io.imread(image_path)\n",
        "    ax=plt.subplot(1,5,i+1)\n",
        "    ax.title.set_text(file)\n",
        "    plt.imshow(img)"
      ],
      "execution_count": null,
      "outputs": []
    },
    {
      "cell_type": "code",
      "metadata": {
        "id": "eNnCNOXHuTel"
      },
      "source": [
        "print(type(img), img.dtype)\n",
        "print(img.shape)"
      ],
      "execution_count": null,
      "outputs": []
    },
    {
      "cell_type": "code",
      "metadata": {
        "id": "Dk6r_SKOuTem"
      },
      "source": [
        "folder_list = os.listdir(dataset_dir)\n",
        "folder_list"
      ],
      "execution_count": null,
      "outputs": []
    },
    {
      "cell_type": "code",
      "metadata": {
        "id": "KMfB740guTem"
      },
      "source": [
        "data = []\n",
        "labels = []\n",
        "class_labels = {'Not_balle_cell_0': 0, 'Balle_cell_1': 1}"
      ],
      "execution_count": null,
      "outputs": []
    },
    {
      "cell_type": "markdown",
      "metadata": {
        "id": "fNFZM_j1XZtv"
      },
      "source": [
        "**Image agmentation**"
      ]
    },
    {
      "cell_type": "code",
      "metadata": {
        "id": "uzh-gFgmuTen"
      },
      "source": [
        "datagen1 = ImageDataGenerator(        \n",
        "            rotation_range=45,\n",
        "            width_shift_range=0.2,  \n",
        "            height_shift_range=0.2,    \n",
        "            shear_range=0.2,        \n",
        "            zoom_range=0.2,        \n",
        "            horizontal_flip=True,         \n",
        "            fill_mode='constant', cval=125)"
      ],
      "execution_count": null,
      "outputs": []
    },
    {
      "cell_type": "code",
      "metadata": {
        "id": "iGtdkH4TZOJy"
      },
      "source": [
        "BATCH_SIZE = 32\n",
        "TARGET_SIZE = (257, 257, 3)\n",
        "datagen1 = datagen1.flow_from_directory(\n",
        "    dataset_dir,\n",
        "    target_size=TARGET_SIZE[:2],\n",
        "    batch_size=BATCH_SIZE,\n",
        "    class_mode='categorical')"
      ],
      "execution_count": null,
      "outputs": []
    },
    {
      "cell_type": "code",
      "metadata": {
        "id": "ZD_qxyxSZ3rs"
      },
      "source": [
        "datagen2 = ImageDataGenerator(        \n",
        "            rotation_range=45,\n",
        "            width_shift_range=0.2,  \n",
        "            height_shift_range=0.2,    \n",
        "            shear_range=0.2,        \n",
        "            zoom_range=0.2,        \n",
        "            horizontal_flip=True,         \n",
        "            fill_mode='constant', cval=125)"
      ],
      "execution_count": null,
      "outputs": []
    },
    {
      "cell_type": "code",
      "metadata": {
        "id": "Cm38JvpnuTen"
      },
      "source": [
        "for class_folder in folder_list:\n",
        "    image_list = os.listdir(os.path.join(dataset_dir, class_folder))\n",
        "    \n",
        "    for image_name in image_list:\n",
        "        current_image_path = os.path.join(dataset_dir, class_folder, image_name)\n",
        "        image = io.imread(current_image_path)\n",
        "        #print(image.shape)\n",
        "        image = image.reshape((1, ) + image.shape)\n",
        "        #print(image.shape)\n",
        "        j = 0\n",
        "        for batch in datagen2.flow(image, batch_size=16,\n",
        "                                  save_to_dir=os.path.join(dataset_dir, class_folder),\n",
        "                                  save_prefix='aug',\n",
        "                                  save_format='tif'):    \n",
        "            j += 1    \n",
        "            if j > 3:        \n",
        "                break"
      ],
      "execution_count": null,
      "outputs": []
    },
    {
      "cell_type": "code",
      "metadata": {
        "id": "lU4Lu0hEuTeo"
      },
      "source": [
        "plt.figure(figsize=(20,20))\n",
        "\n",
        "img_folder = os.path.join(dataset_dir, 'Balle_cell_1')\n",
        "#print(img_folder)\n",
        "for i in range(5):\n",
        "    file = random.choice(os.listdir(img_folder))\n",
        "    image_path= os.path.join(img_folder, file)\n",
        "    img=io.imread(image_path)\n",
        "    ax=plt.subplot(1,5,i+1)\n",
        "    ax.title.set_text(file)\n",
        "    plt.imshow(img)"
      ],
      "execution_count": null,
      "outputs": []
    },
    {
      "cell_type": "code",
      "metadata": {
        "id": "bxABq7C8uTeo"
      },
      "source": [
        "plt.figure(figsize=(20,20))\n",
        "\n",
        "img_folder = os.path.join(dataset_dir, 'Not_balle_cell_0')\n",
        "#print(img_folder)\n",
        "for i in range(5):\n",
        "    file = random.choice(os.listdir(img_folder))\n",
        "    image_path= os.path.join(img_folder, file)\n",
        "    img=io.imread(image_path)\n",
        "    ax=plt.subplot(1,5,i+1)\n",
        "    ax.title.set_text(file)\n",
        "    plt.imshow(img)"
      ],
      "execution_count": null,
      "outputs": []
    },
    {
      "cell_type": "code",
      "metadata": {
        "id": "ZUd-0PGqaMKd"
      },
      "source": [
        "datagen3 = ImageDataGenerator(        \n",
        "            rotation_range=45,\n",
        "            width_shift_range=0.2,  \n",
        "            height_shift_range=0.2,    \n",
        "            shear_range=0.2,        \n",
        "            zoom_range=0.2,        \n",
        "            horizontal_flip=True,         \n",
        "            fill_mode='constant', cval=125)"
      ],
      "execution_count": null,
      "outputs": []
    },
    {
      "cell_type": "code",
      "metadata": {
        "id": "beIV-d9_aTKT"
      },
      "source": [
        "BATCH_SIZE = 32\n",
        "TARGET_SIZE = (257, 257, 3)\n",
        "datagen3 = datagen3.flow_from_directory(\n",
        "    '/content/sample_data/Img_HW3',\n",
        "    target_size=TARGET_SIZE[:2],\n",
        "    batch_size=BATCH_SIZE,\n",
        "    class_mode='categorical')"
      ],
      "execution_count": null,
      "outputs": []
    },
    {
      "cell_type": "code",
      "metadata": {
        "id": "WtTsfUNGuTep"
      },
      "source": [
        "my_data = []\n",
        "my_labels = []\n",
        "for class_folder in folder_list:\n",
        "    image_list = os.listdir(os.path.join(dataset_dir, class_folder))\n",
        "    #print(image_list)\n",
        "    for image_name in image_list:\n",
        "        current_image_path = os.path.join(dataset_dir, class_folder, image_name)\n",
        "        image = cv2.imread(current_image_path)\n",
        "        image = cv2.resize(image, (257, 257))\n",
        "        \n",
        "        my_data.append(image)\n",
        "        my_labels.append(class_labels[class_folder])"
      ],
      "execution_count": null,
      "outputs": []
    },
    {
      "cell_type": "code",
      "metadata": {
        "id": "oQSgDudSuTep"
      },
      "source": [
        "len(my_data), type(my_data), my_data[0].dtype"
      ],
      "execution_count": null,
      "outputs": []
    },
    {
      "cell_type": "code",
      "metadata": {
        "id": "1QuR9rVLuTep"
      },
      "source": [
        "len(my_labels), type(my_labels)"
      ],
      "execution_count": null,
      "outputs": []
    },
    {
      "cell_type": "code",
      "metadata": {
        "id": "WwXnOjy1uTeq"
      },
      "source": [
        "my_data = np.array(my_data)\n",
        "my_labels = np.array(my_labels)"
      ],
      "execution_count": null,
      "outputs": []
    },
    {
      "cell_type": "code",
      "metadata": {
        "id": "nEDdLQl4uTeq"
      },
      "source": [
        "my_data.shape, type(my_data), my_data.dtype"
      ],
      "execution_count": null,
      "outputs": []
    },
    {
      "cell_type": "code",
      "metadata": {
        "id": "ZIFcAMUQuTer"
      },
      "source": [
        "my_labels.shape, type(my_labels), my_labels.dtype"
      ],
      "execution_count": null,
      "outputs": []
    },
    {
      "cell_type": "code",
      "metadata": {
        "id": "z2bnw9iVuTer"
      },
      "source": [
        "my_labels[0], plt.imshow(cv2.cvtColor(my_data[0], cv2.COLOR_BGR2RGB))"
      ],
      "execution_count": null,
      "outputs": []
    },
    {
      "cell_type": "code",
      "metadata": {
        "id": "anCsU25UuTer"
      },
      "source": [
        "my_labels[800], plt.imshow(cv2.cvtColor(my_data[800], cv2.COLOR_BGR2RGB))"
      ],
      "execution_count": null,
      "outputs": []
    },
    {
      "cell_type": "code",
      "metadata": {
        "id": "pj8lOW1puTes"
      },
      "source": [
        "prev_state = np.random.get_state()\n",
        "np.random.shuffle(my_data)\n",
        "np.random.set_state(prev_state)\n",
        "np.random.shuffle(my_labels)"
      ],
      "execution_count": null,
      "outputs": []
    },
    {
      "cell_type": "code",
      "metadata": {
        "id": "1GcZ4skDuTes"
      },
      "source": [
        "my_labels[0], plt.imshow(cv2.cvtColor(my_data[0], cv2.COLOR_BGR2RGB))"
      ],
      "execution_count": null,
      "outputs": []
    },
    {
      "cell_type": "code",
      "metadata": {
        "id": "SQeysMwVuTet"
      },
      "source": [
        "my_labels[800], plt.imshow(cv2.cvtColor(my_data[800], cv2.COLOR_BGR2RGB))"
      ],
      "execution_count": null,
      "outputs": []
    },
    {
      "cell_type": "code",
      "metadata": {
        "id": "i5IzxRAVuTet"
      },
      "source": [
        "train_x, train_y = my_data[:1008], my_labels[:1008]"
      ],
      "execution_count": null,
      "outputs": []
    },
    {
      "cell_type": "code",
      "metadata": {
        "id": "WPEHD4z2uTet"
      },
      "source": [
        "val_x, val_y = my_data[1008:], my_labels[1008:]"
      ],
      "execution_count": null,
      "outputs": []
    },
    {
      "cell_type": "code",
      "metadata": {
        "id": "d-_FoYdIuTet"
      },
      "source": [
        "type(train_x), train_x.dtype, train_x.shape"
      ],
      "execution_count": null,
      "outputs": []
    },
    {
      "cell_type": "code",
      "metadata": {
        "id": "HZhW2bJHuTeu"
      },
      "source": [
        "type(train_y), train_y.dtype, train_y.shape"
      ],
      "execution_count": null,
      "outputs": []
    },
    {
      "cell_type": "code",
      "metadata": {
        "id": "byr9ot5RuTeu"
      },
      "source": [
        "type(val_x), val_x.dtype, val_x.shape"
      ],
      "execution_count": null,
      "outputs": []
    },
    {
      "cell_type": "code",
      "metadata": {
        "id": "UVNpiaavuTev"
      },
      "source": [
        "type(val_y), val_y.dtype, val_y.shape"
      ],
      "execution_count": null,
      "outputs": []
    },
    {
      "cell_type": "code",
      "metadata": {
        "id": "FLCfhnxJuTev"
      },
      "source": [
        "from tensorflow.keras.utils import to_categorical"
      ],
      "execution_count": null,
      "outputs": []
    },
    {
      "cell_type": "code",
      "metadata": {
        "id": "Qlg5xqJTuTev"
      },
      "source": [
        "train_y = to_categorical(train_y, num_classes=2)\n",
        "train_y.shape, train_y.dtype"
      ],
      "execution_count": null,
      "outputs": []
    },
    {
      "cell_type": "code",
      "metadata": {
        "id": "GLnnKbOruTev"
      },
      "source": [
        "train_y[0]"
      ],
      "execution_count": null,
      "outputs": []
    },
    {
      "cell_type": "code",
      "metadata": {
        "id": "E9ajPojBuTew"
      },
      "source": [
        "val_y = to_categorical(val_y, num_classes=2)\n",
        "val_y.shape, val_y.dtype"
      ],
      "execution_count": null,
      "outputs": []
    },
    {
      "cell_type": "code",
      "metadata": {
        "id": "MLDBIiGSuTew"
      },
      "source": [
        "train_x = train_x.astype('float32') / 255.0\n",
        "train_x.shape, train_x.dtype"
      ],
      "execution_count": null,
      "outputs": []
    },
    {
      "cell_type": "code",
      "metadata": {
        "id": "z_k0ALUauTew"
      },
      "source": [
        "val_x = val_x.astype('float32') / 255.0\n",
        "val_x.shape, val_x.dtype"
      ],
      "execution_count": null,
      "outputs": []
    },
    {
      "cell_type": "code",
      "metadata": {
        "id": "2AwIPlpguTew"
      },
      "source": [
        "train_x.mean(), train_x.max(), train_x.min()"
      ],
      "execution_count": null,
      "outputs": []
    },
    {
      "cell_type": "code",
      "metadata": {
        "id": "VGXjCfy0uTex"
      },
      "source": [
        "val_x.mean(), val_x.max(), val_x.min()"
      ],
      "execution_count": null,
      "outputs": []
    },
    {
      "cell_type": "code",
      "metadata": {
        "id": "VVdnkQBzuTex"
      },
      "source": [
        "from tensorflow.keras.models import Model\n",
        "from tensorflow.keras.layers import Input, Dense, Conv2D, MaxPool2D, Flatten, GlobalAveragePooling2D, Dropout, ReLU, ZeroPadding2D"
      ],
      "execution_count": null,
      "outputs": []
    },
    {
      "cell_type": "code",
      "metadata": {
        "id": "KICkr36uuTex"
      },
      "source": [
        "input_layer = Input(shape=(257, 257, 3))\n",
        "\n",
        "x = Conv2D(filters=256, kernel_size=(3, 3), strides=2, padding='same')(input_layer)\n",
        "x = ReLU()(x)\n",
        "x = ZeroPadding2D(padding=(0, 0))(x)\n",
        "x = MaxPool2D(pool_size=(2, 2), strides=2 , padding='valid')(x)\n",
        "\n",
        "x = ZeroPadding2D(padding=(2, 2))(x)\n",
        "x = Conv2D(filters=128, kernel_size=(3, 3), strides=1, padding='valid')(x)\n",
        "x = ReLU()(x)\n",
        "x = MaxPool2D(pool_size=(2, 2), strides=2 , padding='valid')(x)\n",
        "\n",
        "x = ZeroPadding2D(padding=(3, 3))(x)\n",
        "x = Conv2D(filters=96, kernel_size=(5, 5), strides=1, padding='valid')(x)\n",
        "x = ReLU()(x)\n",
        "\n",
        "x = ZeroPadding2D(padding=(2, 2))(x)\n",
        "x = Conv2D(filters=96, kernel_size=(5, 5), strides=1, padding='valid')(x)\n",
        "x = ReLU()(x)\n",
        "\n",
        "x = ZeroPadding2D(padding=(2, 2))(x)\n",
        "x = Conv2D(filters=32, kernel_size=(3, 3), strides=1, padding='valid')(x)\n",
        "x = ReLU()(x)\n",
        "x = MaxPool2D(pool_size=(3, 3), strides=2 , padding='valid')(x)\n",
        "\n",
        "x = GlobalAveragePooling2D()(x)\n",
        "\n",
        "x = Dense(units=1000, activation='relu')(x)\n",
        "x = ReLU()(x)\n",
        "x = Dropout(0.5)(x)\n",
        "\n",
        "predictions_layer = Dense(units=2, activation='softmax')(x)\n",
        "\n",
        "my_cell_classifier_model = Model(inputs=input_layer, outputs=predictions_layer)\n",
        "my_cell_classifier_model.summary()"
      ],
      "execution_count": null,
      "outputs": []
    },
    {
      "cell_type": "code",
      "metadata": {
        "id": "1QUAcE1RuTex"
      },
      "source": [
        "opt = keras.optimizers.Adam(learning_rate=0.0001)\n",
        "my_cell_classifier_model.compile(optimizer=opt , loss='binary_crossentropy', metrics=['accuracy'])"
      ],
      "execution_count": null,
      "outputs": []
    },
    {
      "cell_type": "code",
      "metadata": {
        "id": "m6LHEa55uTey"
      },
      "source": [
        "from tensorflow.keras.callbacks import EarlyStopping\n",
        "early_stop = EarlyStopping(monitor='val_accuracy', mode='max', verbose=0, patience=151, restore_best_weights=True)"
      ],
      "execution_count": null,
      "outputs": []
    },
    {
      "cell_type": "code",
      "metadata": {
        "id": "LK5M3QzM2WIt"
      },
      "source": [
        "my_cell_classifier_model.fit(x=train_x, y=train_y,\n",
        "                             epochs=107,\n",
        "                             batch_size=100,\n",
        "                             shuffle=True,\n",
        "                             validation_data=(val_x, val_y))"
      ],
      "execution_count": null,
      "outputs": []
    },
    {
      "cell_type": "code",
      "metadata": {
        "id": "uW2xzSs910ZC"
      },
      "source": [
        "from tensorflow.keras.models import load_model, save_model"
      ],
      "execution_count": null,
      "outputs": []
    },
    {
      "cell_type": "code",
      "metadata": {
        "id": "hoi33bGC1-pa"
      },
      "source": [
        "save_model(my_cell_classifier_model, '/content/drive/MyDrive', 'balle_cell.h5' )"
      ],
      "execution_count": null,
      "outputs": []
    },
    {
      "cell_type": "code",
      "metadata": {
        "id": "ifn3n7pyuTey"
      },
      "source": [
        "model_loss_history = pd.DataFrame({'loss': my_cell_classifier_model.history.history['loss'],\n",
        "                                   'val_loss': my_cell_classifier_model.history.history['val_loss']})"
      ],
      "execution_count": null,
      "outputs": []
    },
    {
      "cell_type": "code",
      "metadata": {
        "id": "ehN06ljH95v8"
      },
      "source": [
        "model_loss_history.plot()"
      ],
      "execution_count": null,
      "outputs": []
    },
    {
      "cell_type": "code",
      "metadata": {
        "id": "XhUzxiBu95y1"
      },
      "source": [
        "model_accuracy_history = pd.DataFrame({'accuracy': my_cell_classifier_model.history.history['accuracy'],\n",
        "                                       'val_accuracy': my_cell_classifier_model.history.history['val_accuracy']})"
      ],
      "execution_count": null,
      "outputs": []
    },
    {
      "cell_type": "code",
      "metadata": {
        "id": "CpDQALrW952_"
      },
      "source": [
        "model_accuracy_history.plot()"
      ],
      "execution_count": null,
      "outputs": []
    },
    {
      "cell_type": "code",
      "metadata": {
        "id": "nnwo1AKRuTey"
      },
      "source": [
        "model_accuracy_history['val_accuracy'].max()"
      ],
      "execution_count": null,
      "outputs": []
    },
    {
      "cell_type": "code",
      "metadata": {
        "id": "IM2Xa23j4RjN"
      },
      "source": [
        "my_cell_classifier_model.evaluate(x=val_x, y=val_y)"
      ],
      "execution_count": null,
      "outputs": []
    },
    {
      "cell_type": "code",
      "metadata": {
        "id": "7d0wyRrgoWBn"
      },
      "source": [
        "from sklearn.metrics import classification_report, confusion_matrix"
      ],
      "execution_count": null,
      "outputs": []
    },
    {
      "cell_type": "code",
      "metadata": {
        "id": "UHt9KOxYoWBo"
      },
      "source": [
        "model_predictions = my_cell_classifier_model.predict(val_x)"
      ],
      "execution_count": null,
      "outputs": []
    },
    {
      "cell_type": "code",
      "metadata": {
        "id": "ltYwoiCwoWBo"
      },
      "source": [
        "model_predictions"
      ],
      "execution_count": null,
      "outputs": []
    },
    {
      "cell_type": "code",
      "metadata": {
        "id": "eKn-4zIpoWBp"
      },
      "source": [
        "model_predictions.shape"
      ],
      "execution_count": null,
      "outputs": []
    },
    {
      "cell_type": "code",
      "metadata": {
        "id": "zJ_ZMLxsoWBp"
      },
      "source": [
        "model_sparse_predictions = np.zeros(shape=model_predictions.shape)\n",
        "predictions_sparse_labels= np.argmax(model_predictions, axis=1)"
      ],
      "execution_count": null,
      "outputs": []
    },
    {
      "cell_type": "code",
      "metadata": {
        "id": "GJDUUylVoWBp"
      },
      "source": [
        "predictions_sparse_labels"
      ],
      "execution_count": null,
      "outputs": []
    },
    {
      "cell_type": "code",
      "metadata": {
        "id": "QsSJ1rEkoWBq"
      },
      "source": [
        "val_y =  np.argmax(val_y, axis=1)\n",
        "val_y"
      ],
      "execution_count": null,
      "outputs": []
    },
    {
      "cell_type": "code",
      "metadata": {
        "id": "XQkdL3MzoWBr"
      },
      "source": [
        "print(classification_report(y_true=val_y, y_pred=predictions_sparse_labels))"
      ],
      "execution_count": null,
      "outputs": []
    },
    {
      "cell_type": "code",
      "metadata": {
        "id": "OsR-WoDJtGgE"
      },
      "source": [
        "cf_matrix = confusion_matrix(y_true=val_y, y_pred=predictions_sparse_labels)\n"
      ],
      "execution_count": null,
      "outputs": []
    },
    {
      "cell_type": "code",
      "metadata": {
        "id": "-J3-IkjIwG2v"
      },
      "source": [
        "import seaborn as sns\n",
        "labels = ['True Neg','False Pos','False Neg','True Pos']\n",
        "#categories = ['Normal', 'Abnormal']\n",
        "group_counts = ['{0:0.0f}'.format(value) for value in cf_matrix.flatten()]\n",
        "group_percentages = ['{0:.2%}'.format(value) for value in cf_matrix.flatten()/np.sum(cf_matrix)]\n",
        "labels = [f'{v1}\\n{v2}\\n{v3}' for v1, v2, v3 in zip(labels, group_counts, group_percentages)]\n",
        "#print(labels)\n",
        "labels = np.asarray(labels).reshape(2,2)\n",
        "sns.heatmap(cf_matrix, annot=labels, fmt='', cmap='Blues')"
      ],
      "execution_count": null,
      "outputs": []
    },
    {
      "cell_type": "code",
      "metadata": {
        "id": "_NSgeufeoUrq"
      },
      "source": [
        ""
      ],
      "execution_count": null,
      "outputs": []
    },
    {
      "cell_type": "code",
      "metadata": {
        "id": "X4P853XDoUuc"
      },
      "source": [
        ""
      ],
      "execution_count": null,
      "outputs": []
    }
  ]
}